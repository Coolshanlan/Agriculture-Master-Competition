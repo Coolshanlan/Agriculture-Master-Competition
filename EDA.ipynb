{
 "metadata": {
  "language_info": {
   "codemirror_mode": {
    "name": "ipython",
    "version": 3
   },
   "file_extension": ".py",
   "mimetype": "text/x-python",
   "name": "python",
   "nbconvert_exporter": "python",
   "pygments_lexer": "ipython3",
   "version": "3.8.1-final"
  },
  "orig_nbformat": 2,
  "kernelspec": {
   "name": "python38164bittorchconda2bf05c5e4e6d4945a6130788ff708fc6",
   "display_name": "Python 3.8.1 64-bit ('torch': conda)",
   "language": "python"
  }
 },
 "nbformat": 4,
 "nbformat_minor": 2,
 "cells": [
  {
   "source": [
    "## Import"
   ],
   "cell_type": "markdown",
   "metadata": {}
  },
  {
   "cell_type": "code",
   "execution_count": 2,
   "metadata": {},
   "outputs": [],
   "source": [
    "import pandas as pd\n",
    "import matplotlib as plt"
   ]
  },
  {
   "cell_type": "code",
   "execution_count": 28,
   "metadata": {},
   "outputs": [
    {
     "output_type": "stream",
     "name": "stdout",
     "text": [
      "       index        d.log_time  d.temperature_A  d.temperature_B  \\\n0          0   2020/7/31 00:05             28.9             28.2   \n1          1   2020/7/31 00:10             28.9             28.2   \n2          2   2020/7/31 00:15             28.8             28.2   \n3          3   2020/7/31 00:20             28.8             28.2   \n4          4   2020/7/31 00:25             28.8             28.2   \n...      ...               ...              ...              ...   \n28488  28488  2020/12/31 23:35             11.6             11.0   \n28489  28489  2020/12/31 23:40             11.6             11.1   \n28490  28490  2020/12/31 23:45             11.6             11.0   \n28491  28491  2020/12/31 23:50             11.6             11.0   \n28492  28492  2020/12/31 23:55             11.6             10.9   \n\n       d.humidity_A  d.humidity_B  d.photometric  d.CO2  d.soil_temperature  \\\n0              76.8          85.5              0    433                28.4   \n1              77.4          85.4              0    432                28.4   \n2              77.1          85.8              0    433                28.3   \n3              77.4          85.1              0    433                28.3   \n4              76.6          84.6              0    435                28.3   \n...             ...           ...            ...    ...                 ...   \n28488          66.8          75.7              0    428                 9.1   \n28489          67.3          75.9              0    428                 9.1   \n28490          65.9          75.7              0    429                 9.1   \n28491          65.9          75.8              0    428                 9.1   \n28492          66.7          76.2              0    428                 9.1   \n\n       d.soil_humidity  ...  actuator02  actuator03  actuator04  actuator05  \\\n0                 38.4  ...           1           1           1           1   \n1                 38.4  ...           1           1           1           1   \n2                 38.2  ...           1           1           1           1   \n3                 38.4  ...           1           1           1           1   \n4                 38.2  ...           1           1           1           1   \n...                ...  ...         ...         ...         ...         ...   \n28488             42.7  ...           0           0           0           0   \n28489             42.7  ...           0           0           0           0   \n28490             42.7  ...           0           0           0           0   \n28491             42.6  ...           0           0           0           0   \n28492             42.7  ...           0           0           0           0   \n\n       actuator06  actuator07  actuator08  actuator09  actuator10  actuator11  \n0               1           1           1           0           0           0  \n1               1           1           1           0           0           0  \n2               1           1           1           0           0           0  \n3               1           1           1           0           0           0  \n4               1           1           1           0           0           0  \n...           ...         ...         ...         ...         ...         ...  \n28488           0           0           1           0           0           0  \n28489           0           0           1           0           0           0  \n28490           0           0           1           0           0           0  \n28491           0           0           1           0           0           0  \n28492           0           0           1           0           0           0  \n\n[28493 rows x 31 columns]\n"
     ]
    }
   ],
   "source": [
    "def read_csvfile(filepath):\n",
    "    df = pd.read_csv(filepath)\n",
    "    return df\n",
    "train_df = read_csvfile(r\"C:\\User_D\\Program\\農業競賽\\train_data.csv\")\n"
   ]
  },
  {
   "cell_type": "code",
   "execution_count": null,
   "metadata": {},
   "outputs": [],
   "source": []
  }
 ]
}